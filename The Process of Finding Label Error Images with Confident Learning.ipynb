{
 "cells": [
  {
   "cell_type": "code",
   "execution_count": null,
   "metadata": {},
   "outputs": [],
   "source": [
    "import cleanlab\n",
    "import sklearn\n",
    "from sklearn.calibration import CalibratedClassifierCV\n",
    "from sklearn.linear_model import LogisticRegression as lr\n",
    "import glob\n",
    "import SimpleITK as sitk\n",
    "import numpy as np\n",
    "import pandas as pd\n",
    "import openpyxl\n",
    "import xlrd"
   ]
  },
  {
   "cell_type": "code",
   "execution_count": null,
   "metadata": {},
   "outputs": [],
   "source": [
    "image_dir = 'image datasets'\n",
    "label_dir = 'label datasets'"
   ]
  },
  {
   "cell_type": "code",
   "execution_count": null,
   "metadata": {},
   "outputs": [],
   "source": [
    "image = sitk.ReadImage(image_dir)\n",
    "label = np.array(pd.read_excel(label_dir, squeeze=True))"
   ]
  },
  {
   "cell_type": "code",
   "execution_count": null,
   "metadata": {},
   "outputs": [],
   "source": [
    "clf = CalibratedClassifierCV(base_estimator=lr(tol=0.01, max_iter=1000), method='isotonic', cv=5)"
   ]
  },
  {
   "cell_type": "code",
   "execution_count": null,
   "metadata": {},
   "outputs": [],
   "source": [
    "confident_joint, psx = cleanlab.latent_estimation.estimate_confident_joint_and_cv_pred_proba(\n",
    "                            X=image.reshape(image.shape[0], image.shape[1]*image.shape[2]), \n",
    "                            s=np.array(label),\n",
    "                            clf = clf\n",
    "                        )"
   ]
  },
  {
   "cell_type": "code",
   "execution_count": null,
   "metadata": {},
   "outputs": [],
   "source": [
    "indices = cleanlab.pruning.get_noise_indices(s=np.array(label),\n",
    "                                             psx=psx,\n",
    "                                             confident_joint=confident_joint,\n",
    "                                             num_to_remove_per_class=None,\n",
    "                                             prune_method='both',\n",
    "                                             sorted_index_method='normalized_margin')"
   ]
  }
 ],
 "metadata": {
  "kernelspec": {
   "display_name": "Python 3",
   "language": "python",
   "name": "python3"
  },
  "language_info": {
   "codemirror_mode": {
    "name": "ipython",
    "version": 3
   },
   "file_extension": ".py",
   "mimetype": "text/x-python",
   "name": "python",
   "nbconvert_exporter": "python",
   "pygments_lexer": "ipython3",
   "version": "3.7.6"
  }
 },
 "nbformat": 4,
 "nbformat_minor": 4
}
